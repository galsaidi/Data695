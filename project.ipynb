{
 "cells": [
  {
   "cell_type": "code",
   "execution_count": 1,
   "metadata": {},
   "outputs": [
    {
     "name": "stdout",
     "output_type": "stream",
     "text": [
      "fire_year                         int64\n",
      "fire_number                      object\n",
      "fire_name                        object\n",
      "current_size                    float64\n",
      "size_class                       object\n",
      "fire_location_latitude          float64\n",
      "fire_location_longitude         float64\n",
      "fire_origin                      object\n",
      "general_cause_desc               object\n",
      "industry_identifier_desc         object\n",
      "responsible_group_desc           object\n",
      "activity_class                   object\n",
      "true_cause                       object\n",
      "fire_start_date                  object\n",
      "det_agent_type                   object\n",
      "det_agent                        object\n",
      "discovered_date                  object\n",
      "discovered_size                 float64\n",
      "reported_date                    object\n",
      "dispatched_resource              object\n",
      "dispatch_date                    object\n",
      "start_for_fire_date              object\n",
      "assessment_resource              object\n",
      "assessment_datetime              object\n",
      "assessment_hectares             float64\n",
      "fire_spread_rate                float64\n",
      "fire_type                        object\n",
      "fire_position_on_slope           object\n",
      "weather_conditions_over_fire     object\n",
      "temperature                     float64\n",
      "relative_humidity               float64\n",
      "wind_direction                   object\n",
      "wind_speed                      float64\n",
      "fuel_type                        object\n",
      "initial_action_by                object\n",
      "ia_arrival_at_fire_date          object\n",
      "ia_access                        object\n",
      "fire_fighting_start_date         object\n",
      "fire_fighting_start_size        float64\n",
      "bucketing_on_fire                object\n",
      "distance_from_water_source      float64\n",
      "first_bucket_drop_date           object\n",
      "bh_fs_date                       object\n",
      "bh_hectares                     float64\n",
      "uc_fs_date                       object\n",
      "uc_hectares                     float64\n",
      "to_fs_date                       object\n",
      "to_hectares                     float64\n",
      "ex_fs_date                       object\n",
      "ex_hectares                     float64\n",
      "dtype: object\n"
     ]
    }
   ],
   "source": [
    "import pandas as pd\n",
    "\n",
    "# Function to load data and print data types\n",
    "def load_data(file_path):\n",
    "    \"\"\"\n",
    "    Load data from the specified file path and handle data types.\n",
    "    \"\"\"\n",
    "    data = pd.read_excel(file_path)\n",
    "    \n",
    "    # Convert columns to appropriate data types\n",
    "    # List of columns that should be numeric\n",
    "    numeric_columns = ['current_size', 'fire_location_latitude', 'fire_location_longitude',\n",
    "                       'discovered_size', 'assessment_hectares', 'fire_spread_rate',\n",
    "                       'temperature', 'relative_humidity', 'wind_speed', 'distance_from_water_source',\n",
    "                       'bh_hectares', 'uc_hectares', 'to_hectares', 'ex_hectares']\n",
    "\n",
    "    for col in numeric_columns:\n",
    "        data[col] = pd.to_numeric(data[col], errors='coerce')  # Convert to numeric, set errors to NaN\n",
    "    \n",
    "    # Print data types of all columns\n",
    "    print(data.dtypes)\n",
    "    \n",
    "    return data\n",
    "\n",
    "def main(file_path):\n",
    "    \"\"\"\n",
    "    Main function to load data and print data types.\n",
    "    \"\"\"\n",
    "    data = load_data(file_path)\n",
    "    return data\n",
    "\n",
    "if __name__ == \"__main__\":\n",
    "    # Ensure the file path is correctly formatted for your OS\n",
    "    file_path = r\"https://open.alberta.ca/dataset/a221e7a0-4f46-4be7-9c5a-e29de9a3447e/resource/80480824-0c50-456c-9723-f9d4fc136141/download/fp-historical-wildfire-data-2006-2023.xlsx\"\n",
    "    main(file_path)\n",
    "\n",
    "\n",
    "print('Hello world')\n"
   ]
  },
  {
   "cell_type": "code",
   "execution_count": null,
   "metadata": {},
   "outputs": [],
   "source": [
    "#This is try from jason."
   ]
  }
 ],
 "metadata": {
  "kernelspec": {
   "display_name": "Python 3",
   "language": "python",
   "name": "python3"
  },
  "language_info": {
   "codemirror_mode": {
    "name": "ipython",
    "version": 3
   },
   "file_extension": ".py",
   "mimetype": "text/x-python",
   "name": "python",
   "nbconvert_exporter": "python",
   "pygments_lexer": "ipython3",
   "version": "3.11.9"
  }
 },
 "nbformat": 4,
 "nbformat_minor": 2
}
